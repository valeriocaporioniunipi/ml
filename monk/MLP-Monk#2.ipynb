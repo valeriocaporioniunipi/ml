{
 "cells": [
  {
   "attachments": {},
   "cell_type": "markdown",
   "metadata": {},
   "source": [
    "# MLP Classifier"
   ]
  },
  {
   "cell_type": "code",
   "execution_count": 1,
   "metadata": {},
   "outputs": [],
   "source": [
    "import pandas as pd \n",
    "import numpy as np\n",
    "import matplotlib.pyplot as plt\n",
    "\n",
    "from sklearn.neural_network import MLPClassifier\n",
    "from sklearn.preprocessing import OneHotEncoder\n",
    "from sklearn.metrics import accuracy_score, classification_report, mean_squared_error\n",
    "from sklearn.model_selection import KFold, GridSearchCV\n"
   ]
  },
  {
   "cell_type": "code",
   "execution_count": 2,
   "metadata": {},
   "outputs": [],
   "source": [
    "# Function to divide the dataset into columns\n",
    "def read_split_data(path):\n",
    "    data = pd.read_csv(path, header = None)\n",
    "    df = data[0].str.split(expand=True)\n",
    "    \n",
    "    df.columns = [\"target\", \"col_1\", \"col_2\", \"col_3\", \"col_4\", \"col_5\", \"col_6\", \"id\"]\n",
    "\n",
    "    return df"
   ]
  },
  {
   "cell_type": "code",
   "execution_count": 3,
   "metadata": {},
   "outputs": [],
   "source": [
    "# Function to separate the variables from targets and splitting the data into training/test set\n",
    "def tt_split(data):\n",
    "    \n",
    "    y = data['target']\n",
    "    X = data.drop(columns=[\"target\", \"id\"])\n",
    "\n",
    "    return X, y"
   ]
  },
  {
   "cell_type": "code",
   "execution_count": 48,
   "metadata": {},
   "outputs": [],
   "source": [
    "# Initializing empty lists to later store the values used in plots\n",
    "train_accuracies = []\n",
    "val_accuracies = []\n",
    "train_MSEs = []\n",
    "val_MSEs = []\n",
    "\n",
    "# Deciding a number of epochs\n",
    "epochs = 340"
   ]
  },
  {
   "cell_type": "code",
   "execution_count": 49,
   "metadata": {},
   "outputs": [],
   "source": [
    "def val_train_split(folds, x, y, grid, epochs):\n",
    "    for train, val in folds.split(x, y):\n",
    "        \n",
    "        #Splitting the data into validation and training sets\n",
    "        X_tr, X_val = x[train], x[val]\n",
    "        y_tr, y_val = y.iloc[train], y.iloc[val]\n",
    "\n",
    "        #Setting the type of the data to int to stabilize it\n",
    "        y_tr = y_tr.astype(int)\n",
    "        y_val = y_val.astype(int)\n",
    "\n",
    "        #Using the grid search to find the best parameters\n",
    "        grid_results = grid.fit(X_tr, y_tr)\n",
    "        best_parameters = grid_results.best_params_\n",
    "        best_model = MLPClassifier(**best_parameters, random_state=42)\n",
    "        \n",
    "        #Storing the metrics for current fold to later use in plots\n",
    "        fold_train_accuracies = []\n",
    "        fold_val_accuracies = []  \n",
    "        fold_train_MSE = []\n",
    "        fold_val_MSE = []\n",
    "\n",
    "        #Incremental training\n",
    "        for epoch in range(1, epochs+1):\n",
    "\n",
    "            best_model.partial_fit(X_tr, y_tr, classes = np.unique(y_tr))\n",
    "\n",
    "            #Predictions\n",
    "            y_train_pred = best_model.predict(X_tr)\n",
    "            y_val_pred = best_model.predict(X_val)\n",
    "\n",
    "            #Compute accuracy to use in plots\n",
    "            train_accuracy = accuracy_score(y_tr, y_train_pred)\n",
    "            val_accuracy = accuracy_score(y_val, y_val_pred)\n",
    "\n",
    "            #Computing the mean squared errors\n",
    "            train_MSE = mean_squared_error(y_tr, y_train_pred)\n",
    "            val_MSE = mean_squared_error(y_val, y_val_pred)            \n",
    "\n",
    "            #Saving the values for each fold\n",
    "            fold_train_accuracies.append(train_accuracy)\n",
    "            fold_val_accuracies.append(val_accuracy)\n",
    "            fold_train_MSE.append(train_MSE)\n",
    "            fold_val_MSE.append(val_MSE)            \n",
    "\n",
    "        # Saving the metrics for each fold\n",
    "        train_accuracies.append(fold_train_accuracies)\n",
    "        val_accuracies.append(fold_val_accuracies)\n",
    "        train_MSEs.append(fold_train_MSE)\n",
    "        val_MSEs.append(fold_val_MSE)\n",
    "        \n",
    "        return  best_model"
   ]
  },
  {
   "attachments": {},
   "cell_type": "markdown",
   "metadata": {},
   "source": [
    "# Task \\#2"
   ]
  },
  {
   "attachments": {},
   "cell_type": "markdown",
   "metadata": {},
   "source": [
    "### Data prep"
   ]
  },
  {
   "cell_type": "code",
   "execution_count": 50,
   "metadata": {},
   "outputs": [],
   "source": [
    "#Reading the csv file\n",
    "path_train_1 = \"../data/monks-2.train\"\n",
    "train_1 = read_split_data(path_train_1)\n",
    "\n",
    "#Splitting the training dataset\n",
    "X_train, y_train = tt_split(train_1)"
   ]
  },
  {
   "cell_type": "code",
   "execution_count": 51,
   "metadata": {},
   "outputs": [],
   "source": [
    "#Reading the csv file\n",
    "path_test_1 = \"../data/monks-2.test\"\n",
    "test_1 = read_split_data(path_test_1)\n",
    "\n",
    "#Splitting the test dataset\n",
    "X_test, y_test = tt_split(test_1)"
   ]
  },
  {
   "cell_type": "code",
   "execution_count": 52,
   "metadata": {},
   "outputs": [],
   "source": [
    "#Encoding the data\n",
    "encoder = OneHotEncoder()\n",
    "X_train = encoder.fit_transform(X_train)\n",
    "X_test = encoder.fit_transform(X_test)"
   ]
  },
  {
   "cell_type": "code",
   "execution_count": 53,
   "metadata": {},
   "outputs": [
    {
     "name": "stdout",
     "output_type": "stream",
     "text": [
      "Monk 1 [TRAIN]: (169, 17)\n",
      "Monk 1 [TEST]: (432, 17)\n"
     ]
    }
   ],
   "source": [
    "print(f\"Monk 1 [TRAIN]: \" + str(X_train.shape))\n",
    "print(f\"Monk 1 [TEST]: \" + str(X_test.shape))"
   ]
  },
  {
   "attachments": {},
   "cell_type": "markdown",
   "metadata": {},
   "source": [
    "### Building the Model and Training"
   ]
  },
  {
   "cell_type": "code",
   "execution_count": 54,
   "metadata": {},
   "outputs": [],
   "source": [
    "#Splitting the folds\n",
    "folds = KFold(n_splits = 5, shuffle = True, random_state=42)\n",
    "\n",
    "#List of parameters to try\n",
    "MLP_params = {'solver' : ['adam', 'sgd'],\n",
    "              'learning_rate_init' : [0.0001, 0.001, 0.01, 0.3],\n",
    "              'activation': ['relu', 'tanh', 'logistic'],\n",
    "              'hidden_layer_sizes': [(3,), (10,)],\n",
    "              'momentum' : [0.6, 0.7],\n",
    "              'nesterovs_momentum': [True, False],\n",
    "              'shuffle': [True],\n",
    "              'max_iter' : [1000] }\n",
    "\n",
    "#Grid Search\n",
    "MLP_grid = GridSearchCV(estimator=MLPClassifier(), \n",
    "                        param_grid=MLP_params, \n",
    "                        n_jobs=-1, \n",
    "                        cv=folds,\n",
    "                        refit = 'accuracy',\n",
    "                        verbose=2)"
   ]
  },
  {
   "cell_type": "code",
   "execution_count": 55,
   "metadata": {},
   "outputs": [
    {
     "name": "stdout",
     "output_type": "stream",
     "text": [
      "Fitting 5 folds for each of 192 candidates, totalling 960 fits\n"
     ]
    }
   ],
   "source": [
    "# Selecting the best model to use on prediction\n",
    "best_model = val_train_split(folds, X_train, y_train, MLP_grid, epochs)"
   ]
  },
  {
   "cell_type": "code",
   "execution_count": 56,
   "metadata": {},
   "outputs": [
    {
     "name": "stdout",
     "output_type": "stream",
     "text": [
      "Accuracy and Mean Squared Error of the model:\n",
      "Mean Training Accuracy:  0.9479302832244009\n",
      "Mean Validation Accuracy:  0.9063148788927335\n",
      "Mean Training Loss:  0.052069716775599136\n",
      "Mean Validation Loss:  0.09368512110726643\n"
     ]
    }
   ],
   "source": [
    "# Calculating the mean for training and validation accuracies\n",
    "mean_train_accuracies = np.mean(train_accuracies, axis=0)\n",
    "mean_val_accuracies = np.mean(val_accuracies, axis=0)\n",
    "\n",
    "#Calculating the mean for training and validation mean squared errors\n",
    "mean_train_MSE = np.mean(train_MSEs, axis = 0)\n",
    "mean_val_MSE = np.mean(val_MSEs, axis = 0)\n",
    "\n",
    "# Accuracy of the model on training and validation\n",
    "print(\"Accuracy and Mean Squared Error of the model:\")\n",
    "print(\"Mean Training Accuracy: \", np.mean(mean_train_accuracies))\n",
    "print(\"Mean Validation Accuracy: \", np.mean(mean_val_accuracies))\n",
    "print(\"Mean Training Loss: \", np.mean(mean_train_MSE))\n",
    "print(\"Mean Validation Loss: \", np.mean(mean_val_MSE))"
   ]
  },
  {
   "attachments": {},
   "cell_type": "markdown",
   "metadata": {},
   "source": [
    "### Visualization"
   ]
  },
  {
   "cell_type": "code",
   "execution_count": 57,
   "metadata": {},
   "outputs": [
    {
     "data": {
      "text/plain": [
       "<matplotlib.legend.Legend at 0x29a28ee85d0>"
      ]
     },
     "execution_count": 57,
     "metadata": {},
     "output_type": "execute_result"
    },
    {
     "data": {
      "image/png": "[encoded data removed]",
      "text/plain": [
       "<Figure size 1200x600 with 2 Axes>"
      ]
     },
     "metadata": {},
     "output_type": "display_data"
    }
   ],
   "source": [
    "# Plot the learning curves\n",
    "plt.figure(figsize=(12, 6))\n",
    "\n",
    "# Plotting accuracies\n",
    "plt.subplot(1, 2, 1)\n",
    "plt.plot(range(1, epochs + 1), mean_train_accuracies, label='Training Accuracy')\n",
    "plt.plot(range(1, epochs + 1), mean_val_accuracies, label='Validation Accuracy')\n",
    "plt.title('Training and Validation Accuracies')\n",
    "plt.xlabel('Epochs')\n",
    "plt.ylabel('Accuracy')\n",
    "plt.legend()\n",
    "\n",
    "# Plotting losses\n",
    "plt.subplot(1, 2, 2)\n",
    "plt.plot(range(1, epochs + 1), mean_train_MSE, label='Training Mean Squared Error')\n",
    "plt.plot(range(1, epochs + 1), mean_val_MSE, label='Validation Mean Squared Error')\n",
    "plt.title('Training and Validation MSE')\n",
    "plt.xlabel('Epochs')\n",
    "plt.ylabel('Mean Squared Error')\n",
    "plt.legend()\n"
   ]
  },
  {
   "attachments": {},
   "cell_type": "markdown",
   "metadata": {},
   "source": [
    "### Prediction on test set"
   ]
  },
  {
   "cell_type": "code",
   "execution_count": 58,
   "metadata": {},
   "outputs": [
    {
     "name": "stdout",
     "output_type": "stream",
     "text": [
      "1.0\n",
      "              precision    recall  f1-score   support\n",
      "\n",
      "           0       1.00      1.00      1.00       290\n",
      "           1       1.00      1.00      1.00       142\n",
      "\n",
      "    accuracy                           1.00       432\n",
      "   macro avg       1.00      1.00      1.00       432\n",
      "weighted avg       1.00      1.00      1.00       432\n",
      "\n"
     ]
    }
   ],
   "source": [
    "y_pred_test = best_model.predict(X_test)\n",
    "\n",
    "#Making the data consistent\n",
    "y_test = y_test.astype(int)\n",
    "y_pred_test = y_pred_test.astype(int)\n",
    "\n",
    "#Predicting on test set\n",
    "print(accuracy_score(y_test, y_pred_test))\n",
    "print(classification_report(y_test, y_pred_test))"
   ]
  }
 ],
 "metadata": {
  "kernelspec": {
   "display_name": "Python 3",
   "language": "python",
   "name": "python3"
  },
  "language_info": {
   "codemirror_mode": {
    "name": "ipython",
    "version": 3
   },
   "file_extension": ".py",
   "mimetype": "text/x-python",
   "name": "python",
   "nbconvert_exporter": "python",
   "pygments_lexer": "ipython3",
   "version": "3.11.9"
  },
  "orig_nbformat": 4
 },
 "nbformat": 4,
 "nbformat_minor": 2
}
