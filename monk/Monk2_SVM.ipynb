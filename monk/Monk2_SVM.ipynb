{
 "cells": [
  {
   "attachments": {},
   "cell_type": "markdown",
   "metadata": {},
   "source": [
    "## Monk's Problem - SVM"
   ]
  },
  {
   "cell_type": "code",
   "execution_count": 7,
   "metadata": {},
   "outputs": [],
   "source": [
    "import pandas as pd \n",
    "import numpy as np\n",
    "import matplotlib.pyplot as plt\n",
    "\n",
    "from sklearn.svm import SVC\n",
    "from sklearn.preprocessing import OneHotEncoder\n",
    "from sklearn.metrics import accuracy_score, classification_report, mean_squared_error\n",
    "from sklearn.model_selection import StratifiedKFold, GridSearchCV, learning_curve\n",
    "\n",
    "from utils_monk import read_split_data, abs_path"
   ]
  },
  {
   "attachments": {},
   "cell_type": "markdown",
   "metadata": {},
   "source": [
    "## Task \\#1"
   ]
  },
  {
   "attachments": {},
   "cell_type": "markdown",
   "metadata": {},
   "source": [
    "### Building the model and training"
   ]
  },
  {
   "cell_type": "code",
   "execution_count": 8,
   "metadata": {},
   "outputs": [],
   "source": [
    "def model_selection(x, y):\n",
    "\n",
    "    #Model\n",
    "    classifier = SVC()\n",
    "\n",
    "    # List of parameters to try\n",
    "    SVC_params =  {'kernel' : ['rbf', 'poly', 'sigmoid'], \n",
    "              'gamma' : [1, 0.1, 0.01, 0.001],\n",
    "              'C': [0.1, 1, 10, 100], \n",
    "               'class_weight' : [None, 'balanced'],\n",
    "               'degree' : [2,3]}\n",
    "    \n",
    "    # Folds\n",
    "    folds = StratifiedKFold(n_splits = 10, shuffle = True, random_state=42)\n",
    "    \n",
    "    # Grid Search\n",
    "    SVC_grid = GridSearchCV(estimator=classifier, \n",
    "                        param_grid=SVC_params, \n",
    "                        n_jobs=2, \n",
    "                        cv=folds,\n",
    "                        scoring = 'accuracy',\n",
    "                        verbose=2,\n",
    "                        return_train_score=True)\n",
    "    \n",
    "    # Grid results\n",
    "    grid_results = SVC_grid.fit(x, y)\n",
    "\n",
    "    means_train = abs(grid_results.cv_results_['mean_train_score'])\n",
    "    means_test = abs(grid_results.cv_results_['mean_test_score'])\n",
    "    times_train = grid_results.cv_results_['mean_fit_time']\n",
    "    times_test = grid_results.cv_results_['mean_score_time']\n",
    "    params = grid_results.cv_results_['params']\n",
    "\n",
    "    #for m_ts, t_ts, m_tr, t_tr, p in sorted(zip(means_test, times_test, means_train, times_train, params)):\n",
    "    #    print(\"{} \\t TR {:.4f} (in {:.4f}) \\t TS {:.4f} (in {:.4f})\".format(p, m_tr, t_tr, m_ts, t_ts))\n",
    "\n",
    "\n",
    "\n",
    "    return grid_results.best_params_"
   ]
  },
  {
   "cell_type": "code",
   "execution_count": 9,
   "metadata": {},
   "outputs": [],
   "source": [
    "def predict(model, x, y):\n",
    "\n",
    "    y_pred = model.predict(x)\n",
    "\n",
    "    MSE = mean_squared_error(y, y_pred)\n",
    "    accuracy = accuracy_score(y, y_pred)\n",
    "\n",
    "    return y_pred, MSE, accuracy"
   ]
  },
  {
   "cell_type": "code",
   "execution_count": 10,
   "metadata": {},
   "outputs": [],
   "source": [
    "def plot_learning_curve(model, x, y, savefig = False):\n",
    "    p = model.get_params()\n",
    "    params = dict(kernel=p['kernel'], C=p['C'],\n",
    "                  gamma=p['gamma'], class_weight = p['class_weight'])\n",
    "    \n",
    "    train_sizes, train_scores_svc, test_scores_svc = learning_curve(model, x, y, train_sizes=np.linspace(0.1, 1, 60), n_jobs = 2, cv = 62, verbose=1)\n",
    "\n",
    "    plt.plot(train_sizes, np.mean(np.abs(train_scores_svc), axis=1))\n",
    "    plt.plot(train_sizes, np.mean(np.abs(test_scores_svc), axis=1))\n",
    "    plt.xlabel(\"train size\")\n",
    "    plt.ylabel(\"Accuracy\")\n",
    "    plt.legend(['Accuracy TR', 'Accuracy VL'])\n",
    "    plt.title(f'SVR learning curve \\n {params}')\n",
    "\n",
    "    if savefig:\n",
    "        plt.savefig(\"plot\\svc_2\", transparent = True)\n",
    "\n",
    "    plt.show()\n"
   ]
  },
  {
   "cell_type": "code",
   "execution_count": 11,
   "metadata": {},
   "outputs": [],
   "source": [
    "def modeling_svm():\n",
    "\n",
    "    # Encoder\n",
    "    encoder = OneHotEncoder()\n",
    "\n",
    "    # Getting the path to the file\n",
    "    data_path_train = abs_path('monks-2.train', 'data')\n",
    "    data_path_test = abs_path('monks-2.test', 'data')\n",
    "\n",
    "    # Splitting and encoding the training data\n",
    "    X_train, y_train = read_split_data(data_path_train)\n",
    "    X_train = encoder.fit_transform(X_train)\n",
    "\n",
    "    # Splitting and encoding the test data\n",
    "    X_test, y_test = read_split_data(data_path_test)\n",
    "    X_test = encoder.transform(X_test)\n",
    "\n",
    "    # Finding the best parameters through the grid search\n",
    "    best_parameters = model_selection(X_train, y_train)\n",
    "    print(\"Best parameters: \", best_parameters)\n",
    "\n",
    "    # Building a model with the best parameters\n",
    "    svc = SVC(**best_parameters, random_state = 42)\n",
    "\n",
    "    folds = StratifiedKFold(n_splits = 10, shuffle = True, random_state=42)\n",
    "\n",
    "    train_losses = []\n",
    "    val_losses = []\n",
    "    train_accuracies = []\n",
    "    val_accuracies = []\n",
    "\n",
    "    # Dividing training set in train and val \n",
    "    for train_index, val_index in folds.split(X_train, y_train):\n",
    "        x_train = X_train[train_index]\n",
    "        x_val = X_train[val_index]\n",
    "        y_train_fold = y_train[train_index]\n",
    "        y_val_fold = y_train[val_index]\n",
    "        \n",
    "        svc.fit(x_train, y_train_fold)\n",
    "        \n",
    "        y_train_pred = svc.predict(x_train)\n",
    "        y_val_pred = svc.predict(x_val)\n",
    "\n",
    "        train_losses.append(mean_squared_error(y_train_fold, y_train_pred))\n",
    "        val_losses.append(mean_squared_error(y_val_fold, y_val_pred))\n",
    "\n",
    "        train_accuracies.append(accuracy_score(y_train_fold, y_train_pred))\n",
    "        val_accuracies.append(accuracy_score(y_val_fold, y_val_pred))\n",
    "    \n",
    "    # Predicting on test set\n",
    "    y_test_pred, test_loss, test_accuracy = predict(model = svc, x = X_test, y = y_test)\n",
    "\n",
    "    print(\"Training loss: \", np.mean(train_losses))\n",
    "    print(\"Validation loss: \", np.mean(val_losses))\n",
    "    print(\"Test loss: \", test_loss)\n",
    "\n",
    "    print(\"Training accuracy: \", np.mean(train_accuracies))\n",
    "    print(\"Validation accuracy: \", np.mean(val_accuracies))\n",
    "    print(\"Test accuracy: \", test_accuracy)\n",
    "\n",
    "    print(classification_report(y_test_pred, y_test))\n",
    "\n",
    "    plot_learning_curve(svc, X_train, y_train, savefig=True)\n",
    "\n",
    "\n"
   ]
  },
  {
   "cell_type": "code",
   "execution_count": 12,
   "metadata": {},
   "outputs": [
    {
     "name": "stdout",
     "output_type": "stream",
     "text": [
      "Fitting 10 folds for each of 192 candidates, totalling 1920 fits\n",
      "Best parameters:  {'C': 10, 'class_weight': None, 'degree': 2, 'gamma': 1, 'kernel': 'poly'}\n",
      "Training loss:  0.0\n",
      "Validation loss:  0.023529411764705882\n",
      "Test loss:  0.0\n",
      "Training accuracy:  1.0\n",
      "Validation accuracy:  0.9764705882352942\n",
      "Test accuracy:  1.0\n",
      "              precision    recall  f1-score   support\n",
      "\n",
      "           0       1.00      1.00      1.00       290\n",
      "           1       1.00      1.00      1.00       142\n",
      "\n",
      "    accuracy                           1.00       432\n",
      "   macro avg       1.00      1.00      1.00       432\n",
      "weighted avg       1.00      1.00      1.00       432\n",
      "\n",
      "[learning_curve] Training set sizes: [ 16  19  21  24  26  29  31  34  36  39  41  44  46  49  52  54  57  59\n",
      "  62  64  67  69  72  74  77  79  82  84  87  90  92  95  97 100 102 105\n",
      " 107 110 112 115 117 120 122 125 128 130 133 135 138 140 143 145 148 150\n",
      " 153 155 158 160 163 166]\n"
     ]
    },
    {
     "name": "stderr",
     "output_type": "stream",
     "text": [
      "[Parallel(n_jobs=2)]: Using backend LokyBackend with 2 concurrent workers.\n",
      "[Parallel(n_jobs=2)]: Done 3720 out of 3720 | elapsed:   21.4s finished\n"
     ]
    },
    {
     "data": {
      "image/png": "[encoded data removed]",
      "text/plain": [
       "<Figure size 640x480 with 1 Axes>"
      ]
     },
     "metadata": {},
     "output_type": "display_data"
    }
   ],
   "source": [
    "modeling_svm()"
   ]
  }
 ],
 "metadata": {
  "kernelspec": {
   "display_name": "Python 3",
   "language": "python",
   "name": "python3"
  },
  "language_info": {
   "codemirror_mode": {
    "name": "ipython",
    "version": 3
   },
   "file_extension": ".py",
   "mimetype": "text/x-python",
   "name": "python",
   "nbconvert_exporter": "python",
   "pygments_lexer": "ipython3",
   "version": "3.11.9"
  },
  "orig_nbformat": 4
 },
 "nbformat": 4,
 "nbformat_minor": 2
}
